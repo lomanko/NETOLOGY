{
 "cells": [
  {
   "cell_type": "markdown",
   "id": "23207fe2",
   "metadata": {},
   "source": [
    "# Итоговая работа PYDP-25"
   ]
  },
  {
   "cell_type": "markdown",
   "id": "3caeee5c",
   "metadata": {},
   "source": [
    "Задание\n",
    "Дан файл HR.csv с данными по опросу уровня удовлетворенности сотрудниками работой.\n",
    "\n",
    "Признаки:\n",
    "1. **satisfaction_level** - Уровень удовлетворенности работой\n",
    "2. **Last_evaluation** - Время с момента последней оценки в годах\n",
    "3. **number_projects** - Количество проектов, выполненных за время работы\n",
    "4. **average_monthly_hours** - Среднее количество часов на рабочем месте в месяц\n",
    "5. **time_spend_company** - Стаж работы в компании в годах\n",
    "6. **work_accident** - Происходили ли несчастные случаи на рабочем месте с сотрудником\n",
    "7. **left** - уволился ли сотрудник\n",
    "8. **promotion_last_5years** - повышался ли сотрудник за последние пять лет\n",
    "9. **department** - отдел в котором работает сотрудник\n",
    "10. **salary** - относительный уровень зарплаты"
   ]
  },
  {
   "cell_type": "code",
   "execution_count": 78,
   "id": "c437d356",
   "metadata": {},
   "outputs": [],
   "source": [
    "import pandas as pd\n",
    "import numpy as np\n",
    "import matplotlib.pyplot as plt \n",
    "import seaborn as sns\n",
    "from scipy.stats import stats\n",
    "from scipy.stats import f_oneway\n",
    "from scipy.stats import mannwhitneyu\n",
    "from sklearn.discriminant_analysis import LinearDiscriminantAnalysis\n",
    "from sklearn.model_selection import train_test_split\n",
    "from sklearn.metrics import accuracy_score\n",
    "\n",
    "from pylab import rcParams"
   ]
  },
  {
   "cell_type": "markdown",
   "id": "57091348",
   "metadata": {},
   "source": [
    "# 1. Загрузите файл HR.csv в pandas dataframe"
   ]
  },
  {
   "cell_type": "code",
   "execution_count": 2,
   "id": "f3802a26",
   "metadata": {},
   "outputs": [
    {
     "data": {
      "text/html": [
       "<div>\n",
       "<style scoped>\n",
       "    .dataframe tbody tr th:only-of-type {\n",
       "        vertical-align: middle;\n",
       "    }\n",
       "\n",
       "    .dataframe tbody tr th {\n",
       "        vertical-align: top;\n",
       "    }\n",
       "\n",
       "    .dataframe thead th {\n",
       "        text-align: right;\n",
       "    }\n",
       "</style>\n",
       "<table border=\"1\" class=\"dataframe\">\n",
       "  <thead>\n",
       "    <tr style=\"text-align: right;\">\n",
       "      <th></th>\n",
       "      <th>satisfaction_level</th>\n",
       "      <th>last_evaluation</th>\n",
       "      <th>number_project</th>\n",
       "      <th>average_montly_hours</th>\n",
       "      <th>time_spend_company</th>\n",
       "      <th>Work_accident</th>\n",
       "      <th>left</th>\n",
       "      <th>promotion_last_5years</th>\n",
       "      <th>department</th>\n",
       "      <th>salary</th>\n",
       "    </tr>\n",
       "  </thead>\n",
       "  <tbody>\n",
       "    <tr>\n",
       "      <th>0</th>\n",
       "      <td>0.38</td>\n",
       "      <td>0.53</td>\n",
       "      <td>2</td>\n",
       "      <td>157</td>\n",
       "      <td>3</td>\n",
       "      <td>0</td>\n",
       "      <td>1</td>\n",
       "      <td>0</td>\n",
       "      <td>sales</td>\n",
       "      <td>low</td>\n",
       "    </tr>\n",
       "    <tr>\n",
       "      <th>1</th>\n",
       "      <td>0.80</td>\n",
       "      <td>0.86</td>\n",
       "      <td>5</td>\n",
       "      <td>262</td>\n",
       "      <td>6</td>\n",
       "      <td>0</td>\n",
       "      <td>1</td>\n",
       "      <td>0</td>\n",
       "      <td>sales</td>\n",
       "      <td>medium</td>\n",
       "    </tr>\n",
       "    <tr>\n",
       "      <th>2</th>\n",
       "      <td>0.11</td>\n",
       "      <td>0.88</td>\n",
       "      <td>7</td>\n",
       "      <td>272</td>\n",
       "      <td>4</td>\n",
       "      <td>0</td>\n",
       "      <td>1</td>\n",
       "      <td>0</td>\n",
       "      <td>sales</td>\n",
       "      <td>medium</td>\n",
       "    </tr>\n",
       "    <tr>\n",
       "      <th>3</th>\n",
       "      <td>0.72</td>\n",
       "      <td>0.87</td>\n",
       "      <td>5</td>\n",
       "      <td>223</td>\n",
       "      <td>5</td>\n",
       "      <td>0</td>\n",
       "      <td>1</td>\n",
       "      <td>0</td>\n",
       "      <td>sales</td>\n",
       "      <td>low</td>\n",
       "    </tr>\n",
       "    <tr>\n",
       "      <th>4</th>\n",
       "      <td>0.37</td>\n",
       "      <td>0.52</td>\n",
       "      <td>2</td>\n",
       "      <td>159</td>\n",
       "      <td>3</td>\n",
       "      <td>0</td>\n",
       "      <td>1</td>\n",
       "      <td>0</td>\n",
       "      <td>sales</td>\n",
       "      <td>low</td>\n",
       "    </tr>\n",
       "  </tbody>\n",
       "</table>\n",
       "</div>"
      ],
      "text/plain": [
       "   satisfaction_level  last_evaluation  number_project  average_montly_hours  \\\n",
       "0                0.38             0.53               2                   157   \n",
       "1                0.80             0.86               5                   262   \n",
       "2                0.11             0.88               7                   272   \n",
       "3                0.72             0.87               5                   223   \n",
       "4                0.37             0.52               2                   159   \n",
       "\n",
       "   time_spend_company  Work_accident  left  promotion_last_5years department  \\\n",
       "0                   3              0     1                      0      sales   \n",
       "1                   6              0     1                      0      sales   \n",
       "2                   4              0     1                      0      sales   \n",
       "3                   5              0     1                      0      sales   \n",
       "4                   3              0     1                      0      sales   \n",
       "\n",
       "   salary  \n",
       "0     low  \n",
       "1  medium  \n",
       "2  medium  \n",
       "3     low  \n",
       "4     low  "
      ]
     },
     "execution_count": 2,
     "metadata": {},
     "output_type": "execute_result"
    }
   ],
   "source": [
    "df = pd.read_csv('HR.csv') #загрузка файла в dataframe\n",
    "\n",
    "df.head()"
   ]
  },
  {
   "cell_type": "code",
   "execution_count": 3,
   "id": "67351339",
   "metadata": {},
   "outputs": [
    {
     "name": "stdout",
     "output_type": "stream",
     "text": [
      "<class 'pandas.core.frame.DataFrame'>\n",
      "RangeIndex: 14999 entries, 0 to 14998\n",
      "Data columns (total 10 columns):\n",
      " #   Column                 Non-Null Count  Dtype  \n",
      "---  ------                 --------------  -----  \n",
      " 0   satisfaction_level     14999 non-null  float64\n",
      " 1   last_evaluation        14999 non-null  float64\n",
      " 2   number_project         14999 non-null  int64  \n",
      " 3   average_montly_hours   14999 non-null  int64  \n",
      " 4   time_spend_company     14999 non-null  int64  \n",
      " 5   Work_accident          14999 non-null  int64  \n",
      " 6   left                   14999 non-null  int64  \n",
      " 7   promotion_last_5years  14999 non-null  int64  \n",
      " 8   department             14999 non-null  object \n",
      " 9   salary                 14999 non-null  object \n",
      "dtypes: float64(2), int64(6), object(2)\n",
      "memory usage: 1.1+ MB\n"
     ]
    }
   ],
   "source": [
    "# Убедимся, что в данных нет пропусков.\n",
    "df.info()"
   ]
  },
  {
   "cell_type": "code",
   "execution_count": 4,
   "id": "d75e0664",
   "metadata": {},
   "outputs": [
    {
     "data": {
      "text/plain": [
       "array(['sales', 'accounting', 'hr', 'technical', 'support', 'management',\n",
       "       'IT', 'product_mng', 'marketing', 'RandD'], dtype=object)"
      ]
     },
     "execution_count": 4,
     "metadata": {},
     "output_type": "execute_result"
    }
   ],
   "source": [
    "# Посмотрим, какие значения есть в текстовых столбцах.\n",
    "df['department'].unique()"
   ]
  },
  {
   "cell_type": "code",
   "execution_count": 5,
   "id": "44dbb799",
   "metadata": {},
   "outputs": [
    {
     "data": {
      "text/plain": [
       "array(['low', 'medium', 'high'], dtype=object)"
      ]
     },
     "execution_count": 5,
     "metadata": {},
     "output_type": "execute_result"
    }
   ],
   "source": [
    "df['salary'].unique()"
   ]
  },
  {
   "cell_type": "markdown",
   "id": "f666b163",
   "metadata": {},
   "source": [
    "# 2. Рассчитайте основные статистики для переменных\n",
    "(среднее,медиана,мода,мин/макс,сред.отклонение)."
   ]
  },
  {
   "cell_type": "code",
   "execution_count": 6,
   "id": "40fb5584",
   "metadata": {},
   "outputs": [
    {
     "data": {
      "text/html": [
       "<div>\n",
       "<style scoped>\n",
       "    .dataframe tbody tr th:only-of-type {\n",
       "        vertical-align: middle;\n",
       "    }\n",
       "\n",
       "    .dataframe tbody tr th {\n",
       "        vertical-align: top;\n",
       "    }\n",
       "\n",
       "    .dataframe thead th {\n",
       "        text-align: right;\n",
       "    }\n",
       "</style>\n",
       "<table border=\"1\" class=\"dataframe\">\n",
       "  <thead>\n",
       "    <tr style=\"text-align: right;\">\n",
       "      <th></th>\n",
       "      <th>satisfaction_level</th>\n",
       "      <th>last_evaluation</th>\n",
       "      <th>number_project</th>\n",
       "      <th>average_montly_hours</th>\n",
       "      <th>time_spend_company</th>\n",
       "      <th>Work_accident</th>\n",
       "      <th>left</th>\n",
       "      <th>promotion_last_5years</th>\n",
       "    </tr>\n",
       "  </thead>\n",
       "  <tbody>\n",
       "    <tr>\n",
       "      <th>count</th>\n",
       "      <td>14999.000000</td>\n",
       "      <td>14999.000000</td>\n",
       "      <td>14999.000000</td>\n",
       "      <td>14999.000000</td>\n",
       "      <td>14999.000000</td>\n",
       "      <td>14999.000000</td>\n",
       "      <td>14999.000000</td>\n",
       "      <td>14999.000000</td>\n",
       "    </tr>\n",
       "    <tr>\n",
       "      <th>mean</th>\n",
       "      <td>0.612834</td>\n",
       "      <td>0.716102</td>\n",
       "      <td>3.803054</td>\n",
       "      <td>201.050337</td>\n",
       "      <td>3.498233</td>\n",
       "      <td>0.144610</td>\n",
       "      <td>0.238083</td>\n",
       "      <td>0.021268</td>\n",
       "    </tr>\n",
       "    <tr>\n",
       "      <th>std</th>\n",
       "      <td>0.248631</td>\n",
       "      <td>0.171169</td>\n",
       "      <td>1.232592</td>\n",
       "      <td>49.943099</td>\n",
       "      <td>1.460136</td>\n",
       "      <td>0.351719</td>\n",
       "      <td>0.425924</td>\n",
       "      <td>0.144281</td>\n",
       "    </tr>\n",
       "    <tr>\n",
       "      <th>min</th>\n",
       "      <td>0.090000</td>\n",
       "      <td>0.360000</td>\n",
       "      <td>2.000000</td>\n",
       "      <td>96.000000</td>\n",
       "      <td>2.000000</td>\n",
       "      <td>0.000000</td>\n",
       "      <td>0.000000</td>\n",
       "      <td>0.000000</td>\n",
       "    </tr>\n",
       "    <tr>\n",
       "      <th>25%</th>\n",
       "      <td>0.440000</td>\n",
       "      <td>0.560000</td>\n",
       "      <td>3.000000</td>\n",
       "      <td>156.000000</td>\n",
       "      <td>3.000000</td>\n",
       "      <td>0.000000</td>\n",
       "      <td>0.000000</td>\n",
       "      <td>0.000000</td>\n",
       "    </tr>\n",
       "    <tr>\n",
       "      <th>50%</th>\n",
       "      <td>0.640000</td>\n",
       "      <td>0.720000</td>\n",
       "      <td>4.000000</td>\n",
       "      <td>200.000000</td>\n",
       "      <td>3.000000</td>\n",
       "      <td>0.000000</td>\n",
       "      <td>0.000000</td>\n",
       "      <td>0.000000</td>\n",
       "    </tr>\n",
       "    <tr>\n",
       "      <th>75%</th>\n",
       "      <td>0.820000</td>\n",
       "      <td>0.870000</td>\n",
       "      <td>5.000000</td>\n",
       "      <td>245.000000</td>\n",
       "      <td>4.000000</td>\n",
       "      <td>0.000000</td>\n",
       "      <td>0.000000</td>\n",
       "      <td>0.000000</td>\n",
       "    </tr>\n",
       "    <tr>\n",
       "      <th>max</th>\n",
       "      <td>1.000000</td>\n",
       "      <td>1.000000</td>\n",
       "      <td>7.000000</td>\n",
       "      <td>310.000000</td>\n",
       "      <td>10.000000</td>\n",
       "      <td>1.000000</td>\n",
       "      <td>1.000000</td>\n",
       "      <td>1.000000</td>\n",
       "    </tr>\n",
       "  </tbody>\n",
       "</table>\n",
       "</div>"
      ],
      "text/plain": [
       "       satisfaction_level  last_evaluation  number_project  \\\n",
       "count        14999.000000     14999.000000    14999.000000   \n",
       "mean             0.612834         0.716102        3.803054   \n",
       "std              0.248631         0.171169        1.232592   \n",
       "min              0.090000         0.360000        2.000000   \n",
       "25%              0.440000         0.560000        3.000000   \n",
       "50%              0.640000         0.720000        4.000000   \n",
       "75%              0.820000         0.870000        5.000000   \n",
       "max              1.000000         1.000000        7.000000   \n",
       "\n",
       "       average_montly_hours  time_spend_company  Work_accident          left  \\\n",
       "count          14999.000000        14999.000000   14999.000000  14999.000000   \n",
       "mean             201.050337            3.498233       0.144610      0.238083   \n",
       "std               49.943099            1.460136       0.351719      0.425924   \n",
       "min               96.000000            2.000000       0.000000      0.000000   \n",
       "25%              156.000000            3.000000       0.000000      0.000000   \n",
       "50%              200.000000            3.000000       0.000000      0.000000   \n",
       "75%              245.000000            4.000000       0.000000      0.000000   \n",
       "max              310.000000           10.000000       1.000000      1.000000   \n",
       "\n",
       "       promotion_last_5years  \n",
       "count           14999.000000  \n",
       "mean                0.021268  \n",
       "std                 0.144281  \n",
       "min                 0.000000  \n",
       "25%                 0.000000  \n",
       "50%                 0.000000  \n",
       "75%                 0.000000  \n",
       "max                 1.000000  "
      ]
     },
     "execution_count": 6,
     "metadata": {},
     "output_type": "execute_result"
    }
   ],
   "source": [
    "df.describe()\n",
    "\n",
    "# В данной таблице можем увидеть рассчитанные среднее, медиану, минимум, максимум, сред. отклонение.\n",
    "\n",
    "# По данной таблице можно увидеть, что сотрудников с повышением за последние 5 лет очень мало (среднее всего 0.02)\n",
    "\n",
    "# Также видно, что в полях satisfaction_level, last_evaluation, number_project, average_minthly_hours\n",
    "# значения среднего и медианы достаточно близки друг к другу.\n",
    "\n",
    "# В поле time_spend_company среднее больше медианного значения.\n",
    "\n"
   ]
  },
  {
   "cell_type": "code",
   "execution_count": 7,
   "id": "3ae774da",
   "metadata": {},
   "outputs": [
    {
     "data": {
      "text/plain": [
       "satisfaction_level         0.1\n",
       "last_evaluation           0.55\n",
       "number_project             4.0\n",
       "average_montly_hours       135\n",
       "time_spend_company         3.0\n",
       "Work_accident              0.0\n",
       "left                       0.0\n",
       "promotion_last_5years      0.0\n",
       "department               sales\n",
       "salary                     low\n",
       "Name: 0, dtype: object"
      ]
     },
     "execution_count": 7,
     "metadata": {},
     "output_type": "execute_result"
    }
   ],
   "source": [
    "df.mode().loc[0] # расчет моды\n",
    "\n",
    "# По значениям моды видим следующие данные:\n",
    "# - чаще всего встречается низкий уровень удовлетворенности работой (0.1);\n",
    "# - больше всего сотрудников в отделе подаж;\n",
    "# - чаще всего у сотрудников низкая зарплата;\n",
    "# - количество проектов за время работы чаще всего 4 (что совпадает и со средним и с медианой);"
   ]
  },
  {
   "cell_type": "markdown",
   "id": "f573f993",
   "metadata": {},
   "source": [
    "# 3. Рассчитайте и визуализировать корреляционную матрицу для количественных переменных.\n",
    "# Определите две самые скоррелированные и две наименее скоррелированные переменные."
   ]
  },
  {
   "cell_type": "code",
   "execution_count": 8,
   "id": "e709118f",
   "metadata": {},
   "outputs": [
    {
     "data": {
      "text/html": [
       "<div>\n",
       "<style scoped>\n",
       "    .dataframe tbody tr th:only-of-type {\n",
       "        vertical-align: middle;\n",
       "    }\n",
       "\n",
       "    .dataframe tbody tr th {\n",
       "        vertical-align: top;\n",
       "    }\n",
       "\n",
       "    .dataframe thead th {\n",
       "        text-align: right;\n",
       "    }\n",
       "</style>\n",
       "<table border=\"1\" class=\"dataframe\">\n",
       "  <thead>\n",
       "    <tr style=\"text-align: right;\">\n",
       "      <th></th>\n",
       "      <th>satisfaction_level</th>\n",
       "      <th>last_evaluation</th>\n",
       "      <th>number_project</th>\n",
       "      <th>average_montly_hours</th>\n",
       "      <th>time_spend_company</th>\n",
       "      <th>Work_accident</th>\n",
       "      <th>left</th>\n",
       "      <th>promotion_last_5years</th>\n",
       "    </tr>\n",
       "  </thead>\n",
       "  <tbody>\n",
       "    <tr>\n",
       "      <th>satisfaction_level</th>\n",
       "      <td>1.000000</td>\n",
       "      <td>0.105021</td>\n",
       "      <td>-0.142970</td>\n",
       "      <td>-0.020048</td>\n",
       "      <td>-0.100866</td>\n",
       "      <td>0.058697</td>\n",
       "      <td>-0.388375</td>\n",
       "      <td>0.025605</td>\n",
       "    </tr>\n",
       "    <tr>\n",
       "      <th>last_evaluation</th>\n",
       "      <td>0.105021</td>\n",
       "      <td>1.000000</td>\n",
       "      <td>0.349333</td>\n",
       "      <td>0.339742</td>\n",
       "      <td>0.131591</td>\n",
       "      <td>-0.007104</td>\n",
       "      <td>0.006567</td>\n",
       "      <td>-0.008684</td>\n",
       "    </tr>\n",
       "    <tr>\n",
       "      <th>number_project</th>\n",
       "      <td>-0.142970</td>\n",
       "      <td>0.349333</td>\n",
       "      <td>1.000000</td>\n",
       "      <td>0.417211</td>\n",
       "      <td>0.196786</td>\n",
       "      <td>-0.004741</td>\n",
       "      <td>0.023787</td>\n",
       "      <td>-0.006064</td>\n",
       "    </tr>\n",
       "    <tr>\n",
       "      <th>average_montly_hours</th>\n",
       "      <td>-0.020048</td>\n",
       "      <td>0.339742</td>\n",
       "      <td>0.417211</td>\n",
       "      <td>1.000000</td>\n",
       "      <td>0.127755</td>\n",
       "      <td>-0.010143</td>\n",
       "      <td>0.071287</td>\n",
       "      <td>-0.003544</td>\n",
       "    </tr>\n",
       "    <tr>\n",
       "      <th>time_spend_company</th>\n",
       "      <td>-0.100866</td>\n",
       "      <td>0.131591</td>\n",
       "      <td>0.196786</td>\n",
       "      <td>0.127755</td>\n",
       "      <td>1.000000</td>\n",
       "      <td>0.002120</td>\n",
       "      <td>0.144822</td>\n",
       "      <td>0.067433</td>\n",
       "    </tr>\n",
       "    <tr>\n",
       "      <th>Work_accident</th>\n",
       "      <td>0.058697</td>\n",
       "      <td>-0.007104</td>\n",
       "      <td>-0.004741</td>\n",
       "      <td>-0.010143</td>\n",
       "      <td>0.002120</td>\n",
       "      <td>1.000000</td>\n",
       "      <td>-0.154622</td>\n",
       "      <td>0.039245</td>\n",
       "    </tr>\n",
       "    <tr>\n",
       "      <th>left</th>\n",
       "      <td>-0.388375</td>\n",
       "      <td>0.006567</td>\n",
       "      <td>0.023787</td>\n",
       "      <td>0.071287</td>\n",
       "      <td>0.144822</td>\n",
       "      <td>-0.154622</td>\n",
       "      <td>1.000000</td>\n",
       "      <td>-0.061788</td>\n",
       "    </tr>\n",
       "    <tr>\n",
       "      <th>promotion_last_5years</th>\n",
       "      <td>0.025605</td>\n",
       "      <td>-0.008684</td>\n",
       "      <td>-0.006064</td>\n",
       "      <td>-0.003544</td>\n",
       "      <td>0.067433</td>\n",
       "      <td>0.039245</td>\n",
       "      <td>-0.061788</td>\n",
       "      <td>1.000000</td>\n",
       "    </tr>\n",
       "  </tbody>\n",
       "</table>\n",
       "</div>"
      ],
      "text/plain": [
       "                       satisfaction_level  last_evaluation  number_project  \\\n",
       "satisfaction_level               1.000000         0.105021       -0.142970   \n",
       "last_evaluation                  0.105021         1.000000        0.349333   \n",
       "number_project                  -0.142970         0.349333        1.000000   \n",
       "average_montly_hours            -0.020048         0.339742        0.417211   \n",
       "time_spend_company              -0.100866         0.131591        0.196786   \n",
       "Work_accident                    0.058697        -0.007104       -0.004741   \n",
       "left                            -0.388375         0.006567        0.023787   \n",
       "promotion_last_5years            0.025605        -0.008684       -0.006064   \n",
       "\n",
       "                       average_montly_hours  time_spend_company  \\\n",
       "satisfaction_level                -0.020048           -0.100866   \n",
       "last_evaluation                    0.339742            0.131591   \n",
       "number_project                     0.417211            0.196786   \n",
       "average_montly_hours               1.000000            0.127755   \n",
       "time_spend_company                 0.127755            1.000000   \n",
       "Work_accident                     -0.010143            0.002120   \n",
       "left                               0.071287            0.144822   \n",
       "promotion_last_5years             -0.003544            0.067433   \n",
       "\n",
       "                       Work_accident      left  promotion_last_5years  \n",
       "satisfaction_level          0.058697 -0.388375               0.025605  \n",
       "last_evaluation            -0.007104  0.006567              -0.008684  \n",
       "number_project             -0.004741  0.023787              -0.006064  \n",
       "average_montly_hours       -0.010143  0.071287              -0.003544  \n",
       "time_spend_company          0.002120  0.144822               0.067433  \n",
       "Work_accident               1.000000 -0.154622               0.039245  \n",
       "left                       -0.154622  1.000000              -0.061788  \n",
       "promotion_last_5years       0.039245 -0.061788               1.000000  "
      ]
     },
     "execution_count": 8,
     "metadata": {},
     "output_type": "execute_result"
    }
   ],
   "source": [
    "# Сначала построим матрицу корреляций.\n",
    "df_corr = df.corr()\n",
    "\n",
    "df_corr"
   ]
  },
  {
   "cell_type": "code",
   "execution_count": 10,
   "id": "7ca75edf",
   "metadata": {},
   "outputs": [
    {
     "data": {
      "text/plain": [
       "<AxesSubplot:>"
      ]
     },
     "execution_count": 10,
     "metadata": {},
     "output_type": "execute_result"
    },
    {
     "data": {
      "image/png": "[encoded data removed]",
      "text/plain": [
       "<Figure size 792x504 with 2 Axes>"
      ]
     },
     "metadata": {
      "needs_background": "light"
     },
     "output_type": "display_data"
    }
   ],
   "source": [
    "# Теперь визуализируем данную матрицу при помощи heatmap\n",
    "\n",
    "rcParams['figure.figsize'] = 11,7\n",
    "sns.heatmap(df_corr, annot=True,cmap='coolwarm',linewidths=1, linecolor='Black')"
   ]
  },
  {
   "cell_type": "code",
   "execution_count": 11,
   "id": "6e61af01",
   "metadata": {},
   "outputs": [],
   "source": [
    "# Видим, что наиболее скоррелированные переменные - увольнение сотрудника и уровень его удовлетворенности.\n",
    "# Зависимость обратная, т.е. чем лучше удовлетворенность сотрудника, тем меньше вероятность его ухода.\n",
    "\n",
    "# Также можно выделить зависимость number_project и average_monthly_hours.\n",
    "# Здесь прямая зависимость: чем больше проектов, тем больше среднее количество часов на рабочем месте.\n",
    "\n",
    "# Также видна зависимость переменных:\n",
    "# - last_evaluation и number_project (прямая 0.35);\n",
    "# - last_evaluation и average_monthly_hours (прямая 0.34)."
   ]
  },
  {
   "cell_type": "code",
   "execution_count": 12,
   "id": "b7190f2b",
   "metadata": {},
   "outputs": [],
   "source": [
    "# Наименее скоррелированные переменные:\n",
    "# - time_spend_company и work_accident. Т.е. количество несчастных случаев не зависит от стажа работы.\n",
    "# - average_monthly_hours и promotion_last_5_years. Т.е. наличие повышения за посление 5 лет никак не зависит\n",
    "# от среднего количества часов на рабочем месте."
   ]
  },
  {
   "cell_type": "markdown",
   "id": "e2d14343",
   "metadata": {},
   "source": [
    "# 4. Рассчитайте сколько сотрудников работает в каждом департаменте."
   ]
  },
  {
   "cell_type": "code",
   "execution_count": 13,
   "id": "58e20c21",
   "metadata": {},
   "outputs": [
    {
     "data": {
      "text/html": [
       "<div>\n",
       "<style scoped>\n",
       "    .dataframe tbody tr th:only-of-type {\n",
       "        vertical-align: middle;\n",
       "    }\n",
       "\n",
       "    .dataframe tbody tr th {\n",
       "        vertical-align: top;\n",
       "    }\n",
       "\n",
       "    .dataframe thead th {\n",
       "        text-align: right;\n",
       "    }\n",
       "</style>\n",
       "<table border=\"1\" class=\"dataframe\">\n",
       "  <thead>\n",
       "    <tr style=\"text-align: right;\">\n",
       "      <th></th>\n",
       "      <th>department</th>\n",
       "      <th>quantity</th>\n",
       "    </tr>\n",
       "  </thead>\n",
       "  <tbody>\n",
       "    <tr>\n",
       "      <th>0</th>\n",
       "      <td>management</td>\n",
       "      <td>630</td>\n",
       "    </tr>\n",
       "    <tr>\n",
       "      <th>1</th>\n",
       "      <td>hr</td>\n",
       "      <td>739</td>\n",
       "    </tr>\n",
       "    <tr>\n",
       "      <th>2</th>\n",
       "      <td>accounting</td>\n",
       "      <td>767</td>\n",
       "    </tr>\n",
       "    <tr>\n",
       "      <th>3</th>\n",
       "      <td>RandD</td>\n",
       "      <td>787</td>\n",
       "    </tr>\n",
       "    <tr>\n",
       "      <th>4</th>\n",
       "      <td>marketing</td>\n",
       "      <td>858</td>\n",
       "    </tr>\n",
       "    <tr>\n",
       "      <th>5</th>\n",
       "      <td>product_mng</td>\n",
       "      <td>902</td>\n",
       "    </tr>\n",
       "    <tr>\n",
       "      <th>6</th>\n",
       "      <td>IT</td>\n",
       "      <td>1227</td>\n",
       "    </tr>\n",
       "    <tr>\n",
       "      <th>7</th>\n",
       "      <td>support</td>\n",
       "      <td>2229</td>\n",
       "    </tr>\n",
       "    <tr>\n",
       "      <th>8</th>\n",
       "      <td>technical</td>\n",
       "      <td>2720</td>\n",
       "    </tr>\n",
       "    <tr>\n",
       "      <th>9</th>\n",
       "      <td>sales</td>\n",
       "      <td>4140</td>\n",
       "    </tr>\n",
       "  </tbody>\n",
       "</table>\n",
       "</div>"
      ],
      "text/plain": [
       "    department  quantity\n",
       "0   management       630\n",
       "1           hr       739\n",
       "2   accounting       767\n",
       "3        RandD       787\n",
       "4    marketing       858\n",
       "5  product_mng       902\n",
       "6           IT      1227\n",
       "7      support      2229\n",
       "8    technical      2720\n",
       "9        sales      4140"
      ]
     },
     "execution_count": 13,
     "metadata": {},
     "output_type": "execute_result"
    }
   ],
   "source": [
    "# Создадим датафрейм с департаментом и количеством сотрудников в нём.\n",
    "df_count_department = pd.Series(df.groupby('department')['department'].count().sort_values(), name='quantity').to_frame().reset_index()\n",
    "df_count_department"
   ]
  },
  {
   "cell_type": "code",
   "execution_count": 14,
   "id": "f901452c",
   "metadata": {},
   "outputs": [
    {
     "data": {
      "image/png": "[encoded data removed]",
      "text/plain": [
       "<Figure size 792x504 with 1 Axes>"
      ]
     },
     "metadata": {
      "needs_background": "light"
     },
     "output_type": "display_data"
    }
   ],
   "source": [
    "# Визуализируем количество сотрудников в департаментах.\n",
    "# Больше всего сотрудников в департаментах sales, technical, support и IT.\n",
    "plt.barh(y=df_count_department['department'], width=df_count_department['quantity']);"
   ]
  },
  {
   "cell_type": "markdown",
   "id": "cac21666",
   "metadata": {},
   "source": [
    "# 5. Показать распределение сотрудников по зарплатам."
   ]
  },
  {
   "cell_type": "code",
   "execution_count": 15,
   "id": "a6accead",
   "metadata": {},
   "outputs": [
    {
     "data": {
      "text/html": [
       "<style  type=\"text/css\" >\n",
       "#T_56417_row0_col1{\n",
       "            width:  10em;\n",
       "             height:  80%;\n",
       "            background:  linear-gradient(90deg,lightgreen 16.9%, transparent 16.9%);\n",
       "        }#T_56417_row1_col1{\n",
       "            width:  10em;\n",
       "             height:  80%;\n",
       "            background:  linear-gradient(90deg,lightgreen 100.0%, transparent 100.0%);\n",
       "        }#T_56417_row2_col1{\n",
       "            width:  10em;\n",
       "             height:  80%;\n",
       "            background:  linear-gradient(90deg,lightgreen 88.1%, transparent 88.1%);\n",
       "        }</style><table id=\"T_56417_\" ><thead>    <tr>        <th class=\"blank level0\" ></th>        <th class=\"col_heading level0 col0\" >salary</th>        <th class=\"col_heading level0 col1\" >quantity</th>    </tr></thead><tbody>\n",
       "                <tr>\n",
       "                        <th id=\"T_56417_level0_row0\" class=\"row_heading level0 row0\" >0</th>\n",
       "                        <td id=\"T_56417_row0_col0\" class=\"data row0 col0\" >high</td>\n",
       "                        <td id=\"T_56417_row0_col1\" class=\"data row0 col1\" >1237</td>\n",
       "            </tr>\n",
       "            <tr>\n",
       "                        <th id=\"T_56417_level0_row1\" class=\"row_heading level0 row1\" >1</th>\n",
       "                        <td id=\"T_56417_row1_col0\" class=\"data row1 col0\" >low</td>\n",
       "                        <td id=\"T_56417_row1_col1\" class=\"data row1 col1\" >7316</td>\n",
       "            </tr>\n",
       "            <tr>\n",
       "                        <th id=\"T_56417_level0_row2\" class=\"row_heading level0 row2\" >2</th>\n",
       "                        <td id=\"T_56417_row2_col0\" class=\"data row2 col0\" >medium</td>\n",
       "                        <td id=\"T_56417_row2_col1\" class=\"data row2 col1\" >6446</td>\n",
       "            </tr>\n",
       "    </tbody></table>"
      ],
      "text/plain": [
       "<pandas.io.formats.style.Styler at 0x7ff6a9326850>"
      ]
     },
     "execution_count": 15,
     "metadata": {},
     "output_type": "execute_result"
    }
   ],
   "source": [
    "# Создадим датафрейм с зарплатой и количеством сотрудников.\n",
    "df_count_salary = pd.Series(df.groupby('salary')['salary'].count(), name='quantity').to_frame().reset_index()\n",
    "\n",
    "df_count_salary.style.bar(align='mid',color='lightgreen')"
   ]
  },
  {
   "cell_type": "code",
   "execution_count": 17,
   "id": "7dfc710d",
   "metadata": {},
   "outputs": [
    {
     "data": {
      "image/png": "[encoded data removed]",
      "text/plain": [
       "<Figure size 648x504 with 1 Axes>"
      ]
     },
     "metadata": {
      "needs_background": "light"
     },
     "output_type": "display_data"
    }
   ],
   "source": [
    "# Визуализируем количество сотрудников по уровню зарплат.\n",
    "rcParams['figure.figsize'] = 9,7\n",
    "sns.histplot(data=df, x=\"salary\",hue='salary')\n",
    "plt.title('Распределение сотрудников по уровню зарплат.')\n",
    "plt.show()"
   ]
  },
  {
   "cell_type": "code",
   "execution_count": null,
   "id": "5b5d2950",
   "metadata": {},
   "outputs": [],
   "source": [
    "# По визуализации видно, что большинство сотрудников со средней и низкой зарплатой.\n",
    "# Сотрудников с высокой зарплатой меньшинство."
   ]
  },
  {
   "cell_type": "markdown",
   "id": "9eae7696",
   "metadata": {},
   "source": [
    "# 6. Показать распределение сотрудников по зарплатам в каждом департаменте по отдельности"
   ]
  },
  {
   "cell_type": "code",
   "execution_count": 18,
   "id": "6fb62d53",
   "metadata": {},
   "outputs": [
    {
     "data": {
      "text/html": [
       "<style  type=\"text/css\" >\n",
       "#T_c6e31_row0_col2{\n",
       "            width:  10em;\n",
       "             height:  80%;\n",
       "            background:  linear-gradient(90deg,lightgreen 100.0%, transparent 100.0%);\n",
       "        }#T_c6e31_row1_col2{\n",
       "            width:  10em;\n",
       "             height:  80%;\n",
       "            background:  linear-gradient(90deg,lightgreen 84.4%, transparent 84.4%);\n",
       "        }#T_c6e31_row2_col2{\n",
       "            width:  10em;\n",
       "             height:  80%;\n",
       "            background:  linear-gradient(90deg,lightgreen 65.4%, transparent 65.4%);\n",
       "        }#T_c6e31_row3_col2,#T_c6e31_row4_col2{\n",
       "            width:  10em;\n",
       "             height:  80%;\n",
       "            background:  linear-gradient(90deg,lightgreen 54.6%, transparent 54.6%);\n",
       "        }#T_c6e31_row5_col2{\n",
       "            width:  10em;\n",
       "             height:  80%;\n",
       "            background:  linear-gradient(90deg,lightgreen 44.9%, transparent 44.9%);\n",
       "        }#T_c6e31_row6_col2{\n",
       "            width:  10em;\n",
       "             height:  80%;\n",
       "            background:  linear-gradient(90deg,lightgreen 29.0%, transparent 29.0%);\n",
       "        }#T_c6e31_row7_col2{\n",
       "            width:  10em;\n",
       "             height:  80%;\n",
       "            background:  linear-gradient(90deg,lightgreen 25.5%, transparent 25.5%);\n",
       "        }#T_c6e31_row8_col2{\n",
       "            width:  10em;\n",
       "             height:  80%;\n",
       "            background:  linear-gradient(90deg,lightgreen 21.5%, transparent 21.5%);\n",
       "        }#T_c6e31_row9_col2{\n",
       "            width:  10em;\n",
       "             height:  80%;\n",
       "            background:  linear-gradient(90deg,lightgreen 19.2%, transparent 19.2%);\n",
       "        }#T_c6e31_row10_col2{\n",
       "            width:  10em;\n",
       "             height:  80%;\n",
       "            background:  linear-gradient(90deg,lightgreen 18.2%, transparent 18.2%);\n",
       "        }#T_c6e31_row11_col2{\n",
       "            width:  10em;\n",
       "             height:  80%;\n",
       "            background:  linear-gradient(90deg,lightgreen 17.9%, transparent 17.9%);\n",
       "        }#T_c6e31_row12_col2{\n",
       "            width:  10em;\n",
       "             height:  80%;\n",
       "            background:  linear-gradient(90deg,lightgreen 17.7%, transparent 17.7%);\n",
       "        }#T_c6e31_row13_col2{\n",
       "            width:  10em;\n",
       "             height:  80%;\n",
       "            background:  linear-gradient(90deg,lightgreen 17.3%, transparent 17.3%);\n",
       "        }#T_c6e31_row14_col2,#T_c6e31_row15_col2{\n",
       "            width:  10em;\n",
       "             height:  80%;\n",
       "            background:  linear-gradient(90deg,lightgreen 17.1%, transparent 17.1%);\n",
       "        }#T_c6e31_row16_col2,#T_c6e31_row17_col2{\n",
       "            width:  10em;\n",
       "             height:  80%;\n",
       "            background:  linear-gradient(90deg,lightgreen 16.0%, transparent 16.0%);\n",
       "        }#T_c6e31_row18_col2{\n",
       "            width:  10em;\n",
       "             height:  80%;\n",
       "            background:  linear-gradient(90deg,lightgreen 12.8%, transparent 12.8%);\n",
       "        }#T_c6e31_row19_col2,#T_c6e31_row20_col2{\n",
       "            width:  10em;\n",
       "             height:  80%;\n",
       "            background:  linear-gradient(90deg,lightgreen 10.7%, transparent 10.7%);\n",
       "        }#T_c6e31_row21_col2{\n",
       "            width:  10em;\n",
       "             height:  80%;\n",
       "            background:  linear-gradient(90deg,lightgreen 9.6%, transparent 9.6%);\n",
       "        }#T_c6e31_row22_col2{\n",
       "            width:  10em;\n",
       "             height:  80%;\n",
       "            background:  linear-gradient(90deg,lightgreen 8.6%, transparent 8.6%);\n",
       "        }#T_c6e31_row23_col2{\n",
       "            width:  10em;\n",
       "             height:  80%;\n",
       "            background:  linear-gradient(90deg,lightgreen 6.7%, transparent 6.7%);\n",
       "        }#T_c6e31_row24_col2{\n",
       "            width:  10em;\n",
       "             height:  80%;\n",
       "            background:  linear-gradient(90deg,lightgreen 4.0%, transparent 4.0%);\n",
       "        }#T_c6e31_row25_col2{\n",
       "            width:  10em;\n",
       "             height:  80%;\n",
       "            background:  linear-gradient(90deg,lightgreen 3.8%, transparent 3.8%);\n",
       "        }#T_c6e31_row26_col2{\n",
       "            width:  10em;\n",
       "             height:  80%;\n",
       "            background:  linear-gradient(90deg,lightgreen 3.5%, transparent 3.5%);\n",
       "        }#T_c6e31_row27_col2{\n",
       "            width:  10em;\n",
       "             height:  80%;\n",
       "            background:  linear-gradient(90deg,lightgreen 3.2%, transparent 3.2%);\n",
       "        }#T_c6e31_row28_col2{\n",
       "            width:  10em;\n",
       "             height:  80%;\n",
       "            background:  linear-gradient(90deg,lightgreen 2.4%, transparent 2.4%);\n",
       "        }#T_c6e31_row29_col2{\n",
       "            width:  10em;\n",
       "             height:  80%;\n",
       "            background:  linear-gradient(90deg,lightgreen 2.1%, transparent 2.1%);\n",
       "        }</style><table id=\"T_c6e31_\" ><thead>    <tr>        <th class=\"blank level0\" ></th>        <th class=\"col_heading level0 col0\" >department</th>        <th class=\"col_heading level0 col1\" >salary</th>        <th class=\"col_heading level0 col2\" >quantity</th>    </tr></thead><tbody>\n",
       "                <tr>\n",
       "                        <th id=\"T_c6e31_level0_row0\" class=\"row_heading level0 row0\" >22</th>\n",
       "                        <td id=\"T_c6e31_row0_col0\" class=\"data row0 col0\" >sales</td>\n",
       "                        <td id=\"T_c6e31_row0_col1\" class=\"data row0 col1\" >low</td>\n",
       "                        <td id=\"T_c6e31_row0_col2\" class=\"data row0 col2\" >2099</td>\n",
       "            </tr>\n",
       "            <tr>\n",
       "                        <th id=\"T_c6e31_level0_row1\" class=\"row_heading level0 row1\" >23</th>\n",
       "                        <td id=\"T_c6e31_row1_col0\" class=\"data row1 col0\" >sales</td>\n",
       "                        <td id=\"T_c6e31_row1_col1\" class=\"data row1 col1\" >medium</td>\n",
       "                        <td id=\"T_c6e31_row1_col2\" class=\"data row1 col2\" >1772</td>\n",
       "            </tr>\n",
       "            <tr>\n",
       "                        <th id=\"T_c6e31_level0_row2\" class=\"row_heading level0 row2\" >28</th>\n",
       "                        <td id=\"T_c6e31_row2_col0\" class=\"data row2 col0\" >technical</td>\n",
       "                        <td id=\"T_c6e31_row2_col1\" class=\"data row2 col1\" >low</td>\n",
       "                        <td id=\"T_c6e31_row2_col2\" class=\"data row2 col2\" >1372</td>\n",
       "            </tr>\n",
       "            <tr>\n",
       "                        <th id=\"T_c6e31_level0_row3\" class=\"row_heading level0 row3\" >29</th>\n",
       "                        <td id=\"T_c6e31_row3_col0\" class=\"data row3 col0\" >technical</td>\n",
       "                        <td id=\"T_c6e31_row3_col1\" class=\"data row3 col1\" >medium</td>\n",
       "                        <td id=\"T_c6e31_row3_col2\" class=\"data row3 col2\" >1147</td>\n",
       "            </tr>\n",
       "            <tr>\n",
       "                        <th id=\"T_c6e31_level0_row4\" class=\"row_heading level0 row4\" >25</th>\n",
       "                        <td id=\"T_c6e31_row4_col0\" class=\"data row4 col0\" >support</td>\n",
       "                        <td id=\"T_c6e31_row4_col1\" class=\"data row4 col1\" >low</td>\n",
       "                        <td id=\"T_c6e31_row4_col2\" class=\"data row4 col2\" >1146</td>\n",
       "            </tr>\n",
       "            <tr>\n",
       "                        <th id=\"T_c6e31_level0_row5\" class=\"row_heading level0 row5\" >26</th>\n",
       "                        <td id=\"T_c6e31_row5_col0\" class=\"data row5 col0\" >support</td>\n",
       "                        <td id=\"T_c6e31_row5_col1\" class=\"data row5 col1\" >medium</td>\n",
       "                        <td id=\"T_c6e31_row5_col2\" class=\"data row5 col2\" >942</td>\n",
       "            </tr>\n",
       "            <tr>\n",
       "                        <th id=\"T_c6e31_level0_row6\" class=\"row_heading level0 row6\" >1</th>\n",
       "                        <td id=\"T_c6e31_row6_col0\" class=\"data row6 col0\" >IT</td>\n",
       "                        <td id=\"T_c6e31_row6_col1\" class=\"data row6 col1\" >low</td>\n",
       "                        <td id=\"T_c6e31_row6_col2\" class=\"data row6 col2\" >609</td>\n",
       "            </tr>\n",
       "            <tr>\n",
       "                        <th id=\"T_c6e31_level0_row7\" class=\"row_heading level0 row7\" >2</th>\n",
       "                        <td id=\"T_c6e31_row7_col0\" class=\"data row7 col0\" >IT</td>\n",
       "                        <td id=\"T_c6e31_row7_col1\" class=\"data row7 col1\" >medium</td>\n",
       "                        <td id=\"T_c6e31_row7_col2\" class=\"data row7 col2\" >535</td>\n",
       "            </tr>\n",
       "            <tr>\n",
       "                        <th id=\"T_c6e31_level0_row8\" class=\"row_heading level0 row8\" >19</th>\n",
       "                        <td id=\"T_c6e31_row8_col0\" class=\"data row8 col0\" >product_mng</td>\n",
       "                        <td id=\"T_c6e31_row8_col1\" class=\"data row8 col1\" >low</td>\n",
       "                        <td id=\"T_c6e31_row8_col2\" class=\"data row8 col2\" >451</td>\n",
       "            </tr>\n",
       "            <tr>\n",
       "                        <th id=\"T_c6e31_level0_row9\" class=\"row_heading level0 row9\" >16</th>\n",
       "                        <td id=\"T_c6e31_row9_col0\" class=\"data row9 col0\" >marketing</td>\n",
       "                        <td id=\"T_c6e31_row9_col1\" class=\"data row9 col1\" >low</td>\n",
       "                        <td id=\"T_c6e31_row9_col2\" class=\"data row9 col2\" >402</td>\n",
       "            </tr>\n",
       "            <tr>\n",
       "                        <th id=\"T_c6e31_level0_row10\" class=\"row_heading level0 row10\" >20</th>\n",
       "                        <td id=\"T_c6e31_row10_col0\" class=\"data row10 col0\" >product_mng</td>\n",
       "                        <td id=\"T_c6e31_row10_col1\" class=\"data row10 col1\" >medium</td>\n",
       "                        <td id=\"T_c6e31_row10_col2\" class=\"data row10 col2\" >383</td>\n",
       "            </tr>\n",
       "            <tr>\n",
       "                        <th id=\"T_c6e31_level0_row11\" class=\"row_heading level0 row11\" >17</th>\n",
       "                        <td id=\"T_c6e31_row11_col0\" class=\"data row11 col0\" >marketing</td>\n",
       "                        <td id=\"T_c6e31_row11_col1\" class=\"data row11 col1\" >medium</td>\n",
       "                        <td id=\"T_c6e31_row11_col2\" class=\"data row11 col2\" >376</td>\n",
       "            </tr>\n",
       "            <tr>\n",
       "                        <th id=\"T_c6e31_level0_row12\" class=\"row_heading level0 row12\" >5</th>\n",
       "                        <td id=\"T_c6e31_row12_col0\" class=\"data row12 col0\" >RandD</td>\n",
       "                        <td id=\"T_c6e31_row12_col1\" class=\"data row12 col1\" >medium</td>\n",
       "                        <td id=\"T_c6e31_row12_col2\" class=\"data row12 col2\" >372</td>\n",
       "            </tr>\n",
       "            <tr>\n",
       "                        <th id=\"T_c6e31_level0_row13\" class=\"row_heading level0 row13\" >4</th>\n",
       "                        <td id=\"T_c6e31_row13_col0\" class=\"data row13 col0\" >RandD</td>\n",
       "                        <td id=\"T_c6e31_row13_col1\" class=\"data row13 col1\" >low</td>\n",
       "                        <td id=\"T_c6e31_row13_col2\" class=\"data row13 col2\" >364</td>\n",
       "            </tr>\n",
       "            <tr>\n",
       "                        <th id=\"T_c6e31_level0_row14\" class=\"row_heading level0 row14\" >11</th>\n",
       "                        <td id=\"T_c6e31_row14_col0\" class=\"data row14 col0\" >hr</td>\n",
       "                        <td id=\"T_c6e31_row14_col1\" class=\"data row14 col1\" >medium</td>\n",
       "                        <td id=\"T_c6e31_row14_col2\" class=\"data row14 col2\" >359</td>\n",
       "            </tr>\n",
       "            <tr>\n",
       "                        <th id=\"T_c6e31_level0_row15\" class=\"row_heading level0 row15\" >7</th>\n",
       "                        <td id=\"T_c6e31_row15_col0\" class=\"data row15 col0\" >accounting</td>\n",
       "                        <td id=\"T_c6e31_row15_col1\" class=\"data row15 col1\" >low</td>\n",
       "                        <td id=\"T_c6e31_row15_col2\" class=\"data row15 col2\" >358</td>\n",
       "            </tr>\n",
       "            <tr>\n",
       "                        <th id=\"T_c6e31_level0_row16\" class=\"row_heading level0 row16\" >8</th>\n",
       "                        <td id=\"T_c6e31_row16_col0\" class=\"data row16 col0\" >accounting</td>\n",
       "                        <td id=\"T_c6e31_row16_col1\" class=\"data row16 col1\" >medium</td>\n",
       "                        <td id=\"T_c6e31_row16_col2\" class=\"data row16 col2\" >335</td>\n",
       "            </tr>\n",
       "            <tr>\n",
       "                        <th id=\"T_c6e31_level0_row17\" class=\"row_heading level0 row17\" >10</th>\n",
       "                        <td id=\"T_c6e31_row17_col0\" class=\"data row17 col0\" >hr</td>\n",
       "                        <td id=\"T_c6e31_row17_col1\" class=\"data row17 col1\" >low</td>\n",
       "                        <td id=\"T_c6e31_row17_col2\" class=\"data row17 col2\" >335</td>\n",
       "            </tr>\n",
       "            <tr>\n",
       "                        <th id=\"T_c6e31_level0_row18\" class=\"row_heading level0 row18\" >21</th>\n",
       "                        <td id=\"T_c6e31_row18_col0\" class=\"data row18 col0\" >sales</td>\n",
       "                        <td id=\"T_c6e31_row18_col1\" class=\"data row18 col1\" >high</td>\n",
       "                        <td id=\"T_c6e31_row18_col2\" class=\"data row18 col2\" >269</td>\n",
       "            </tr>\n",
       "            <tr>\n",
       "                        <th id=\"T_c6e31_level0_row19\" class=\"row_heading level0 row19\" >14</th>\n",
       "                        <td id=\"T_c6e31_row19_col0\" class=\"data row19 col0\" >management</td>\n",
       "                        <td id=\"T_c6e31_row19_col1\" class=\"data row19 col1\" >medium</td>\n",
       "                        <td id=\"T_c6e31_row19_col2\" class=\"data row19 col2\" >225</td>\n",
       "            </tr>\n",
       "            <tr>\n",
       "                        <th id=\"T_c6e31_level0_row20\" class=\"row_heading level0 row20\" >12</th>\n",
       "                        <td id=\"T_c6e31_row20_col0\" class=\"data row20 col0\" >management</td>\n",
       "                        <td id=\"T_c6e31_row20_col1\" class=\"data row20 col1\" >high</td>\n",
       "                        <td id=\"T_c6e31_row20_col2\" class=\"data row20 col2\" >225</td>\n",
       "            </tr>\n",
       "            <tr>\n",
       "                        <th id=\"T_c6e31_level0_row21\" class=\"row_heading level0 row21\" >27</th>\n",
       "                        <td id=\"T_c6e31_row21_col0\" class=\"data row21 col0\" >technical</td>\n",
       "                        <td id=\"T_c6e31_row21_col1\" class=\"data row21 col1\" >high</td>\n",
       "                        <td id=\"T_c6e31_row21_col2\" class=\"data row21 col2\" >201</td>\n",
       "            </tr>\n",
       "            <tr>\n",
       "                        <th id=\"T_c6e31_level0_row22\" class=\"row_heading level0 row22\" >13</th>\n",
       "                        <td id=\"T_c6e31_row22_col0\" class=\"data row22 col0\" >management</td>\n",
       "                        <td id=\"T_c6e31_row22_col1\" class=\"data row22 col1\" >low</td>\n",
       "                        <td id=\"T_c6e31_row22_col2\" class=\"data row22 col2\" >180</td>\n",
       "            </tr>\n",
       "            <tr>\n",
       "                        <th id=\"T_c6e31_level0_row23\" class=\"row_heading level0 row23\" >24</th>\n",
       "                        <td id=\"T_c6e31_row23_col0\" class=\"data row23 col0\" >support</td>\n",
       "                        <td id=\"T_c6e31_row23_col1\" class=\"data row23 col1\" >high</td>\n",
       "                        <td id=\"T_c6e31_row23_col2\" class=\"data row23 col2\" >141</td>\n",
       "            </tr>\n",
       "            <tr>\n",
       "                        <th id=\"T_c6e31_level0_row24\" class=\"row_heading level0 row24\" >0</th>\n",
       "                        <td id=\"T_c6e31_row24_col0\" class=\"data row24 col0\" >IT</td>\n",
       "                        <td id=\"T_c6e31_row24_col1\" class=\"data row24 col1\" >high</td>\n",
       "                        <td id=\"T_c6e31_row24_col2\" class=\"data row24 col2\" >83</td>\n",
       "            </tr>\n",
       "            <tr>\n",
       "                        <th id=\"T_c6e31_level0_row25\" class=\"row_heading level0 row25\" >15</th>\n",
       "                        <td id=\"T_c6e31_row25_col0\" class=\"data row25 col0\" >marketing</td>\n",
       "                        <td id=\"T_c6e31_row25_col1\" class=\"data row25 col1\" >high</td>\n",
       "                        <td id=\"T_c6e31_row25_col2\" class=\"data row25 col2\" >80</td>\n",
       "            </tr>\n",
       "            <tr>\n",
       "                        <th id=\"T_c6e31_level0_row26\" class=\"row_heading level0 row26\" >6</th>\n",
       "                        <td id=\"T_c6e31_row26_col0\" class=\"data row26 col0\" >accounting</td>\n",
       "                        <td id=\"T_c6e31_row26_col1\" class=\"data row26 col1\" >high</td>\n",
       "                        <td id=\"T_c6e31_row26_col2\" class=\"data row26 col2\" >74</td>\n",
       "            </tr>\n",
       "            <tr>\n",
       "                        <th id=\"T_c6e31_level0_row27\" class=\"row_heading level0 row27\" >18</th>\n",
       "                        <td id=\"T_c6e31_row27_col0\" class=\"data row27 col0\" >product_mng</td>\n",
       "                        <td id=\"T_c6e31_row27_col1\" class=\"data row27 col1\" >high</td>\n",
       "                        <td id=\"T_c6e31_row27_col2\" class=\"data row27 col2\" >68</td>\n",
       "            </tr>\n",
       "            <tr>\n",
       "                        <th id=\"T_c6e31_level0_row28\" class=\"row_heading level0 row28\" >3</th>\n",
       "                        <td id=\"T_c6e31_row28_col0\" class=\"data row28 col0\" >RandD</td>\n",
       "                        <td id=\"T_c6e31_row28_col1\" class=\"data row28 col1\" >high</td>\n",
       "                        <td id=\"T_c6e31_row28_col2\" class=\"data row28 col2\" >51</td>\n",
       "            </tr>\n",
       "            <tr>\n",
       "                        <th id=\"T_c6e31_level0_row29\" class=\"row_heading level0 row29\" >9</th>\n",
       "                        <td id=\"T_c6e31_row29_col0\" class=\"data row29 col0\" >hr</td>\n",
       "                        <td id=\"T_c6e31_row29_col1\" class=\"data row29 col1\" >high</td>\n",
       "                        <td id=\"T_c6e31_row29_col2\" class=\"data row29 col2\" >45</td>\n",
       "            </tr>\n",
       "    </tbody></table>"
      ],
      "text/plain": [
       "<pandas.io.formats.style.Styler at 0x7ff6ab0d2a30>"
      ]
     },
     "execution_count": 18,
     "metadata": {},
     "output_type": "execute_result"
    }
   ],
   "source": [
    "# Создадим датафрейм с зарплатой и количеством сотрудников.\n",
    "df_count_salary_department = pd.Series(df.groupby(['department','salary'])['salary'].count(),name='quantity').to_frame().reset_index()\n",
    "\n",
    "df_count_salary_department.sort_values('quantity',ascending=False).style.bar(align='mid',color='lightgreen')"
   ]
  },
  {
   "cell_type": "code",
   "execution_count": 20,
   "id": "0b544a97",
   "metadata": {},
   "outputs": [
    {
     "data": {
      "image/png": "[encoded data removed]",
      "text/plain": [
       "<Figure size 1008x432 with 1 Axes>"
      ]
     },
     "metadata": {
      "needs_background": "light"
     },
     "output_type": "display_data"
    }
   ],
   "source": [
    "# Визуализируем количество сотрудников по уровню зарплат по департаментам.\n",
    "rcParams['figure.figsize'] = 14,6\n",
    "sns.histplot(data=df, x=\"department\",hue='salary',multiple='dodge',shrink=.8)\n",
    "plt.title('Распределение сотрудников по уровню зарплат по департаментам')\n",
    "plt.show()"
   ]
  },
  {
   "cell_type": "code",
   "execution_count": null,
   "id": "fbd1d265",
   "metadata": {},
   "outputs": [],
   "source": [
    "# По визуализации видно, что почти во всех департаментах преобладают низкие и средние зарплаты.\n",
    "# Исключение департамент management. Т.е. у управленческого состава доля высоких зарплат заметно выше."
   ]
  },
  {
   "cell_type": "markdown",
   "id": "2a08c709",
   "metadata": {},
   "source": [
    "# 7. Проверить гипотезу, что сотрудники с высоким окладом проводят на работе больше времени, чем сотрудники с низким окладом"
   ]
  },
  {
   "cell_type": "code",
   "execution_count": 21,
   "id": "5c76cf53",
   "metadata": {},
   "outputs": [
    {
     "name": "stdout",
     "output_type": "stream",
     "text": [
      "\n",
      "Результат проверки гипотез:\n",
      "pvalue = 0.466\n",
      "Принимаем нулевую гипотезу. Сотрудники с высоким и низким окладом проводят на работе одинаковое количество времени\n"
     ]
    }
   ],
   "source": [
    "# Сформируем две гипотезы:\n",
    "# H0 - Сотрудники с высоким и низким окладом проводят на работе одинаковое количество времени.\n",
    "# H1 - Сотрудники с высоким и низким окладом проводят на работе разное количество времени.\n",
    "\n",
    "# Сформируем данные среднего времени на работе в месяц для двух типов зарплат.\n",
    "df_time_high = df[df['salary'] == 'high']['average_montly_hours']\n",
    "df_time_low = df[df['salary'] == 'low']['average_montly_hours']\n",
    "\n",
    "# Возьмем уровень статистической значимости 5%\n",
    "alpha = 0.05\n",
    "\n",
    "# Посчитаем pvalue методом дисперсионного анализа.\n",
    "pvalue = stats.f_oneway(df_time_high,df_time_low)[1]\n",
    "\n",
    "# Интерпретируем результат\n",
    "print('\\nРезультат проверки гипотез:')\n",
    "print(f'pvalue = {round(pvalue,3)}')\n",
    "if pvalue <= alpha:\n",
    "  print('Отвергаем нулевую гипотезу. Сотрудники с высоким и низким окладом проводят на работе разное количество времени')\n",
    "else:\n",
    "  print('Принимаем нулевую гипотезу. Сотрудники с высоким и низким окладом проводят на работе одинаковое количество времени')"
   ]
  },
  {
   "cell_type": "code",
   "execution_count": 22,
   "id": "7066ccd1",
   "metadata": {},
   "outputs": [
    {
     "name": "stdout",
     "output_type": "stream",
     "text": [
      "\n",
      "Результат проверки гипотез:\n",
      "pvalue = 0.412\n",
      "Принимаем нулевую гипотезу. Сотрудники с высоким и низким окладом проводят на работе одинаковое количество времени\n"
     ]
    }
   ],
   "source": [
    "# Также проверим наши гипотезы методом Манна-Уитни\n",
    "\n",
    "pvalue_2 = mannwhitneyu(df_time_high, df_time_low)[1]\n",
    "\n",
    "# Интерпретируем результат\n",
    "print('\\nРезультат проверки гипотез:')\n",
    "print(f'pvalue = {round(pvalue_2,3)}')\n",
    "if pvalue_2 <= alpha:\n",
    "  print('Отвергаем нулевую гипотезу. Сотрудники с высоким и низким окладом проводят на работе разное количество времени')\n",
    "else:\n",
    "  print('Принимаем нулевую гипотезу. Сотрудники с высоким и низким окладом проводят на работе одинаковое количество времени')"
   ]
  },
  {
   "cell_type": "code",
   "execution_count": null,
   "id": "c12895ab",
   "metadata": {},
   "outputs": [],
   "source": [
    "# Результаты 2-х методов говорят о том, что с вероятностью 95% сотрудники с высоким и низким окладом\n",
    "# проводят на работе одинаковое количество времени."
   ]
  },
  {
   "cell_type": "code",
   "execution_count": 23,
   "id": "32fb06bc",
   "metadata": {},
   "outputs": [
    {
     "data": {
      "image/png": "[encoded data removed]",
      "text/plain": [
       "<Figure size 720x216 with 1 Axes>"
      ]
     },
     "metadata": {
      "needs_background": "light"
     },
     "output_type": "display_data"
    }
   ],
   "source": [
    "# Визуализируем резульаты через boxplot\n",
    "work_time =  list(df_time_high) + list(df_time_low)\n",
    "salary_level = ['Высокая зарплата']*len(df_time_high) + ['Низкая зарплата']*len(df_time_low)\n",
    "df_mid = pd.DataFrame()\n",
    "df_mid['Среднее количество часов на рабочем месте в месяц'] = work_time\n",
    "df_mid['Уровень зарплаты'] = salary_level\n",
    "\n",
    "rcParams['figure.figsize'] = 10,3\n",
    "\n",
    "ax = sns.boxplot(x='Среднее количество часов на рабочем месте в месяц', y='Уровень зарплаты', data=df_mid)\n",
    "plt.show()"
   ]
  },
  {
   "cell_type": "code",
   "execution_count": null,
   "id": "1f3f06ce",
   "metadata": {},
   "outputs": [],
   "source": [
    "# Визуализация также подтверждает, что различий в среднем времени на работе в месяц для сотрудников\n",
    "# с низкими и с высокими зарпалатами нет."
   ]
  },
  {
   "cell_type": "markdown",
   "id": "c77aa6c7",
   "metadata": {},
   "source": [
    "# 8. Рассчитать следующие показатели среди уволившихся и неуволившихся сотрудников (по отдельности):\n",
    "* Доля сотрудников с повышением за последние 5 лет\n",
    "* Средняя степень удовлетворенности\n",
    "* Среднее количество проектов"
   ]
  },
  {
   "cell_type": "code",
   "execution_count": 61,
   "id": "ab6d6a42",
   "metadata": {},
   "outputs": [
    {
     "name": "stdout",
     "output_type": "stream",
     "text": [
      "Показатели для неуволившихся сотрудников:\n",
      "\n",
      "Доля сотрудников с повышением: 2.63%\n",
      "Средняя степень удовлетворенности: 66.68%\n",
      "Среднее количество проектов: 3.79\n",
      "\n",
      "Показатели для уволившихся сотрудников:\n",
      "\n",
      "Доля сотрудников с повышением: 0.53%\n",
      "Средняя степень удовлетворенности: 44.01%\n",
      "Среднее количество проектов: 3.86\n",
      "\n"
     ]
    }
   ],
   "source": [
    "left_type = ['неуволившихся','уволившихся']\n",
    "\n",
    "for i in range(2): \n",
    "    print(f'Показатели для {left_type[i]} сотрудников:\\n')\n",
    "   \n",
    "    # Считаем долу сотрудников с повышением за последние 5 лет\n",
    "    a = df[df['left'] == i]['promotion_last_5years'].count()\n",
    "    b = df[(df['left'] == i) & (df['promotion_last_5years']==1)]['left'].count()\n",
    "    print(f'Доля сотрудников с повышением: {round(b/a*100,2)}%') \n",
    "    \n",
    "    # Считаем среднюю удовлетворенность сотрудников\n",
    "    av_satisfaction = df[df['left'] == i]['satisfaction_level'].mean()\n",
    "    print(f'Средняя степень удовлетворенности: {round(av_satisfaction*100,2)}%') \n",
    "    \n",
    "    # Считаем среднее количество проектов сотрудников\n",
    "    av_project = df[df['left'] == i]['number_project'].mean()\n",
    "    print(f'Среднее количество проектов: {round(av_project,2)}\\n') \n",
    "  "
   ]
  },
  {
   "cell_type": "code",
   "execution_count": 64,
   "id": "be1b214f",
   "metadata": {},
   "outputs": [],
   "source": [
    "# По посчитанным показателям видно, что для оставшихся сотрудников доля сотрудников с повышением выше.\n",
    "# Также видно, что средняя степень удовлетворенности для уволившихся сотрудников ниже.\n",
    "# Среднее количество проектов отличается не значительно."
   ]
  },
  {
   "cell_type": "markdown",
   "id": "dac6343c",
   "metadata": {},
   "source": [
    "# 9. Разделить данные на тестовую и обучающую выборки\n",
    "# Построить модель LDA, предсказывающую уволился ли сотрудник на основе имеющихся факторов (кроме department и salary)\n",
    "# Оценить качество модели на тестовой выборки"
   ]
  },
  {
   "cell_type": "code",
   "execution_count": 132,
   "id": "a4244579",
   "metadata": {},
   "outputs": [],
   "source": [
    "# Формируем датафрейм без колонок с департаментом, зарплатой и меткой ухода из компании\n",
    "df_for_model = df.drop(['left','salary','department'],axis=1) \n",
    "\n",
    "# Формируем данные из колонки left (метка ухода из компании)\n",
    "df_left = df['left']\n",
    "\n",
    "# Разделяем выборку на тренировочную и тестовую\n",
    "\n",
    "X_train, X_test, y_train, y_test = train_test_split(df_for_model, df_left, test_size=0.25)"
   ]
  },
  {
   "cell_type": "code",
   "execution_count": 133,
   "id": "a17bfa18",
   "metadata": {},
   "outputs": [
    {
     "data": {
      "text/plain": [
       "array([0, 0, 0, ..., 1, 0, 0])"
      ]
     },
     "execution_count": 133,
     "metadata": {},
     "output_type": "execute_result"
    }
   ],
   "source": [
    "lda = LinearDiscriminantAnalysis()\n",
    "\n",
    "# Обучаем данные\n",
    "lda.fit(X_train, y_train)\n",
    "\n",
    "# Делаем прогноз на тестовой выборке\n",
    "lda.predict(X_test)"
   ]
  },
  {
   "cell_type": "code",
   "execution_count": 134,
   "id": "77b2d213",
   "metadata": {},
   "outputs": [
    {
     "name": "stdout",
     "output_type": "stream",
     "text": [
      "Точность модели на основе тестовой выборки равна 76.0\n"
     ]
    }
   ],
   "source": [
    "# Расчет точности - отношение верных прогнозов к общему количеству позиций.\n",
    "print(f'Точность модели на основе тестовой выборки равна {round(accuracy_score(y_test, lda.predict(X_test)),2)*100}')"
   ]
  },
  {
   "cell_type": "code",
   "execution_count": null,
   "id": "9487c18e",
   "metadata": {},
   "outputs": [],
   "source": [
    "# Получили точность прогноза около 75%.\n",
    "# Т.е. прогноз верен в 3-х случаях из 4-х."
   ]
  }
 ],
 "metadata": {
  "kernelspec": {
   "display_name": "Python 3",
   "language": "python",
   "name": "python3"
  },
  "language_info": {
   "codemirror_mode": {
    "name": "ipython",
    "version": 3
   },
   "file_extension": ".py",
   "mimetype": "text/x-python",
   "name": "python",
   "nbconvert_exporter": "python",
   "pygments_lexer": "ipython3",
   "version": "3.8.8"
  }
 },
 "nbformat": 4,
 "nbformat_minor": 5
}
